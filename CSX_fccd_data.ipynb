{
 "cells": [
  {
   "cell_type": "code",
   "execution_count": null,
   "id": "af10a59b-ebd6-46f0-930e-d4322d3b82c8",
   "metadata": {},
   "outputs": [],
   "source": []
  },
  {
   "cell_type": "code",
   "execution_count": null,
   "id": "6eb43ed0-cd1b-49b8-8a2b-ffcf182b2bf4",
   "metadata": {},
   "outputs": [],
   "source": []
  },
  {
   "cell_type": "code",
   "execution_count": null,
   "id": "0d6b3f6e-df70-43e0-8fb7-41231d9666b3",
   "metadata": {},
   "outputs": [],
   "source": [
    "from databroker.v1 import Broker\n",
    "db = Broker.named('csx')\n",
    "\n",
    "\n",
    "from csxtools.utils import get_fastccd_images, get_fastccd_flatfield\n",
    "from csxtools.ipynb import image_stack_to_movie, show_image_stack  # FOUND MOVIE and should be working again\n",
    "\n",
    "import numpy as np\n",
    "from matplotlib import pyplot as plt\n",
    "from ipywidgets import interact\n",
    "def browse_images(res,title='Frame'):\n",
    "    N = len(res)\n",
    "    def view_image(i=0):\n",
    "        im.set_data(res[i])\n",
    "        ax.set_title(f'{title} {i}')\n",
    "        fig.canvas.draw_idle()\n",
    "    interact(view_image, i=(0, N-1))"
   ]
  },
  {
   "cell_type": "markdown",
   "id": "87411264-55e8-488a-a208-6138344ce705",
   "metadata": {},
   "source": [
    "# Using FCCD data at CSX with csxtools and scikit-beam\n",
    "## Notebooks created by CSX beamline staff\n",
    "## Trust only the [source](https://github.com/ambarb/csx_primer_notebooks/blob/main/CSX_fccd_data.ipynb)\n",
    "## Report issues (aside from github rendering)"
   ]
  },
  {
   "cell_type": "markdown",
   "id": "72c558e5-2588-4db2-9335-c10acefc679f",
   "metadata": {
    "tags": []
   },
   "source": [
    "``` python\n",
    "import csxtools\n",
    "print(f'{csxtools.__version__=}')\n",
    "import skbeam\n",
    "print(f'{skbeam.__version__=}')\n",
    "\n",
    "csxtools.__version__='0.1.16'\n",
    "skbeam.__version__='0.0.24'\n",
    "```"
   ]
  },
  {
   "cell_type": "markdown",
   "id": "5d672bea-6edd-4cdf-b8c9-d376fd5c0941",
   "metadata": {},
   "source": [
    "## Replace Flatfield function: it is broken because FCCD is broken.  \n",
    "\n",
    "Use the fix in the next cell to replace the library's broken function:\n",
    "- if you want to make a flatfield correction set `half = True` in the function call"
   ]
  },
  {
   "cell_type": "code",
   "execution_count": null,
   "id": "11b4b89c-2079-4ec0-b18d-35f7c50a0aa1",
   "metadata": {},
   "outputs": [],
   "source": [
    "def get_fastccd_flatfield(light, dark, flat=None, limits=(0.6, 1.4), half=False, half_args = (7, 486)):\n",
    "    \"\"\"MODIFIED from csxtools original: Calculate a flatfield \n",
    "    This routine calculates the flatfield using the\n",
    "    :func:calculate_flatfield() function after obtaining the images from\n",
    "    the headers.\n",
    "    Parameters\n",
    "    ----------\n",
    "    light : databroker header\n",
    "        The header containing the light images\n",
    "    dark : databroker header\n",
    "        The header from the run containin the dark images\n",
    "    flat : flatfield image (optional)\n",
    "        The array to be used for the initial flatfield\n",
    "    half : calculate for just the \"good\" half - hard coded\n",
    "        Default is False\n",
    "    half_args : Tuple for exluding entire sides of detector (left versus right)\n",
    "        Left side is refers the the left side of the image after raw data is \n",
    "        processed with get_fastccd_images().  Default arguments are for the left side\n",
    "        using the FrameStore mode.\n",
    "    Returns\n",
    "    -------\n",
    "    array_like\n",
    "        Flatfield correction\n",
    "    \"\"\"\n",
    "    images = get_images_to_3D(get_fastccd_images(light, dark, flat))\n",
    "    images = stackmean(images)\n",
    "    if half == True:\n",
    "        #rows because \"super columns\" are the large 10 pixel bins, but camera is on side.\n",
    "        row_start, row_stop = half_args\n",
    "        images[:,row_start:row_stop] = np.nan\n",
    "        #plt.figure()\n",
    "        #im = plt.imshow(images, vmin =0, vmax = 500)\n",
    "        #cbar = plt.colorbar(im)\n",
    "        #cbar.set_label('ADU gain corrected')\n",
    "    flat = calculate_flatfield(images, limits)\n",
    "    removed = np.sum(np.isnan(flat))\n",
    "    if removed != 0:\n",
    "        logger.warning(\"Flatfield correction removed %d pixels (%.2f %%)\" %\n",
    "                       (removed, removed * 100 / flat.size))\n",
    "    return flat\n",
    "\n",
    "    "
   ]
  },
  {
   "cell_type": "code",
   "execution_count": null,
   "id": "fa75aea3-8c8f-4060-a84b-6ab77efa2f77",
   "metadata": {},
   "outputs": [],
   "source": []
  },
  {
   "cell_type": "markdown",
   "id": "ee933770-f73a-48fe-a6fb-62573bfa356f",
   "metadata": {},
   "source": [
    "## Now to retreive data"
   ]
  },
  {
   "cell_type": "markdown",
   "id": "6acf7990-e044-47ee-9aad-c1d9a1abfa55",
   "metadata": {},
   "source": [
    "### Set up"
   ]
  },
  {
   "cell_type": "code",
   "execution_count": null,
   "id": "bf9dfba1-8a7c-43eb-a0c2-87e6698182c5",
   "metadata": {},
   "outputs": [],
   "source": [
    "#### PILOT DATA for test ###\n",
    "### This data is generated by a static sample pattern in saxs geometery, but Q does not matter for this purpose.  Note that there are some 'problems' using the data sets so this is not perfect for fine analysis - just code testing\n",
    "\n",
    "### \n",
    "scan_no = 126365  ; descript = ' long static test'\n",
    "scan_no = 126360  ; descript = ' 4 um per s'\n",
    "\n",
    "bgnd1 = None #db[h.start['scan_id']-1]#None #\n",
    "bgnd2 = None #db[h.start['scan_id']-2]#None #\n",
    "bgnd8 = db[126362]\n",
    "\n",
    "use_flatfield = False\n",
    "\n",
    "##### FILL IN WHEN YOU GET YOUR FLATFIELD SCAN NUMBERS\n",
    "#use_flatfield = True\n",
    "#flat_field_header = db[_some_scan_number]\n",
    "#tuple_dark_headers = (db[_some_scan_number1],db[_some_scan_number2],db[_some_scan_number3])\n",
    " "
   ]
  },
  {
   "cell_type": "markdown",
   "id": "55dfd369-d3de-44c4-b72e-89d9fda0a0af",
   "metadata": {},
   "source": [
    "### Notice that the flatfield correction is not even setup above\n",
    "- it doesn't exist for the sample data\n",
    "- the flatfield correction makes the CCD response uniform over the entire area (correct irregularity in photon sensiting)\n",
    "- ask beamline for the scan numbers, or record them at the time of your experiment\n",
    "\n",
    "### After 09-21-2022\n",
    "- there is a custom `plan_name` for the flatfield (`ct_flatfield`)\n"
   ]
  },
  {
   "cell_type": "markdown",
   "id": "4f756c11-0798-4cc5-813f-d02fae9ea752",
   "metadata": {},
   "source": [
    "### Setup to get images and associated scan data"
   ]
  },
  {
   "cell_type": "code",
   "execution_count": null,
   "id": "194024b6-5700-42db-97ba-0ecd95617069",
   "metadata": {},
   "outputs": [],
   "source": [
    "########### working part, don't touch\n",
    "h = db[scan_no] # h is for header\n",
    "\n",
    "tbl=h.table() #get everything but IMAGES from FCCD\n",
    "tbl_bl = h.table('baseline')\n",
    "\n",
    "ADUpPH = 30*np.nanmean(tbl_bl.pgm_energy_readback)/930\n",
    "frametime = h.descriptors[0]['configuration']['fccd']['data']['fccd_cam_acquire_period']\n",
    "\n",
    "if use_flatfield == False:\n",
    "    ff = None\n",
    "else:\n",
    "    # below is pseudo code. you need to define the headers for this to work\n",
    "    ff = get_fastccd_flatfield(flat_field_header, (tuple_dark_headers), half=True)"
   ]
  },
  {
   "cell_type": "markdown",
   "id": "c56ee17e-d66f-42f5-a509-6fd7bb98750b",
   "metadata": {},
   "source": [
    "### Normalize images\n",
    "* single point count (like XPCS)\n",
    "```python\n",
    "    stack = get_fastccd_images(h, (bgnd8, bgnd2, bgnd1), flat=ff, tag='fccd_image')\n",
    "    images = stack[0]  #THIS IS ONE BIG STACK\n",
    "```\n",
    "\n",
    "\n",
    "* multi-point count (spec \"timescan\" or scan)\n",
    "```python\n",
    "    images = get_fastccd_images(header, (bgnd8, bgnd2, bgnd1), flat=None)\n",
    "    stack = get_images_to_4D(images)\n",
    "    images =stack\n",
    "```"
   ]
  },
  {
   "cell_type": "code",
   "execution_count": null,
   "id": "b75c9a02-1674-4240-863f-2de59682af83",
   "metadata": {},
   "outputs": [],
   "source": [
    "stack = get_fastccd_images(h, (bgnd8, bgnd2, bgnd1), flat=ff, tag='fccd_image')\n",
    "images = stack[0]  #THIS IS ONE BIG STACK\n",
    "pixels_in_ADU = True"
   ]
  },
  {
   "cell_type": "code",
   "execution_count": null,
   "id": "98c57732-a643-4430-80f6-89258489fe7e",
   "metadata": {},
   "outputs": [],
   "source": [
    "images = images[:] / ADUpPH \n",
    "pixels_in_ADU = False"
   ]
  },
  {
   "cell_type": "code",
   "execution_count": null,
   "id": "da91e141-7bc6-443e-99b8-71e78deb4040",
   "metadata": {},
   "outputs": [],
   "source": [
    "frame_beg = 0\n",
    "frame_end = 50\n",
    "floor = 0#np.nanmin(images[1])*2\n",
    "ceiling = 20#np.nanmax(images[1])\n",
    "\n",
    "avg_frames = np.nanmean(images[frame_beg:frame_end,:,:],axis=0)\n",
    "\n",
    "fig, axes = plt.subplots(1,2,figsize=(8,8))\n",
    "im=axes[0].imshow(images[frame_beg], vmin=floor, vmax=ceiling,\n",
    "                  cmap='viridis', interpolation='none')\n",
    "axes[0].set_title('full frame single image')\n",
    "axes[1].imshow(avg_frames, vmin=floor, vmax=ceiling,\n",
    "               cmap='viridis', interpolation='none')\n",
    "axes[1].set_title('mean of {} images'.format(images[frame_beg:frame_end,:,:].shape[0]))\n",
    "\n",
    "cbar = fig.colorbar(im, ax=axes.ravel().tolist(),orientation=\"horizontal\")\n",
    "if pixels_in_ADU is True:\n",
    "    cbar.set_label('ADU')\n",
    "else:\n",
    "    cbar.set_label('photons')\n",
    "maxphoton=np.nanmax(images[frame_beg])\n",
    "exposuretime=h.descriptors[0]['configuration']['fccd']['data']['fccd_cam_acquire_time']\n",
    "SUMphoton=np.nansum(np.nansum(images[1,:,:],axis=1),axis=0)\n",
    "\n",
    "print(f'APPROXIMATE ADU per photon:\\t\\t\\t{ADUpPH:2.1f} ADU')\n",
    "print(f'Max number photon in 1 image pixel ({exposuretime:.4f}s):\\t{maxphoton:2.1f} ph')"
   ]
  },
  {
   "cell_type": "markdown",
   "id": "eb09f3b4-2b62-4fb7-b9bf-76bf716ffeb3",
   "metadata": {},
   "source": [
    "### Movie "
   ]
  },
  {
   "cell_type": "code",
   "execution_count": null,
   "id": "2170d7a3-0589-4601-9997-5fd525f3332a",
   "metadata": {},
   "outputs": [],
   "source": [
    "print(f'The colorbar units are {pixels_in_ADU}')"
   ]
  },
  {
   "cell_type": "code",
   "execution_count": null,
   "id": "7c4495d4-5024-4246-a469-a1539a47d0d7",
   "metadata": {},
   "outputs": [],
   "source": [
    "image_stack_to_movie(images, vmin=floor, vmax=ceiling)"
   ]
  },
  {
   "cell_type": "markdown",
   "id": "ecc4947b-413c-4a09-a303-3eff3a2a2f60",
   "metadata": {},
   "source": [
    "### Interactive exploration\n",
    "* currently broken, looking into fix until matplotlib is fixed for `%matplotlib widget`\n",
    "* `plt.ion()` does work in some cases, but I haven't been successful here"
   ]
  },
  {
   "cell_type": "code",
   "execution_count": null,
   "id": "a30a1cbc-1f28-4e40-a9bb-1275fa6a33ae",
   "metadata": {},
   "outputs": [],
   "source": [
    "%matplotlib widget"
   ]
  },
  {
   "cell_type": "code",
   "execution_count": null,
   "id": "16e69911-95f8-4fb6-a928-3bbb568577df",
   "metadata": {},
   "outputs": [],
   "source": [
    "fig, ax = plt.subplots(figsize=(7,7))\n",
    "ax.set(title='single image [scan_no %s] ' %(h['start']['scan_id']))\n",
    "im=ax.imshow(images[1],vmin=floor, vmax=ceiling,#np.max(sub_images[1]), \n",
    "             cmap='viridis', interpolation='none')\n",
    "cbar = fig.colorbar(im, ax=ax,shrink=.5, orientation='vertical')\n",
    "if pixels_in_ADU is True:\n",
    "    cbar.set_label('ADU')\n",
    "else:\n",
    "    cbar.set_label('photons')"
   ]
  },
  {
   "cell_type": "markdown",
   "id": "5cb254a3-6a9f-4818-88ae-8a87c31e3601",
   "metadata": {},
   "source": [
    "### Only works if plot above is interactive"
   ]
  },
  {
   "cell_type": "code",
   "execution_count": null,
   "id": "8e071f0a-41ef-4eee-9d0e-f99c22b82908",
   "metadata": {},
   "outputs": [],
   "source": [
    "browse_images(images)"
   ]
  },
  {
   "cell_type": "code",
   "execution_count": null,
   "id": "690aaaf7-021e-45cf-b569-79244c89ec72",
   "metadata": {},
   "outputs": [],
   "source": []
  },
  {
   "cell_type": "markdown",
   "id": "bd617b87-11e7-4391-8522-79573c30a3da",
   "metadata": {
    "tags": []
   },
   "source": [
    "# Essential libraries and functions and quantities for XPCS\n",
    "```python\n",
    "import skbeam.core.correlation as corr\n",
    "import skbeam.core.roi as roi\n",
    "\n",
    "\n",
    "## CONVERT TO PHOTONS and getting dt for XPCS\n",
    "ADUpPH = 30*np.nanmean(tbl_bl.pgm_energy_readback)/930 \n",
    "frametime_dt = h.descriptors[0]['configuration']['fccd']['data']['fccd_cam_acquire_period'] \n",
    "\n",
    "## waterfall\n",
    "roi.kymograph(images,rois) \n",
    "\n",
    "## one-time\n",
    "num_levels = 4 #\n",
    "num_bufs =  8 #\n",
    "# these paramters are general, but over and under selection the parameters can mask good things or bad things\n",
    "# brute force - all times on all images calculated is\n",
    "#num_levels = 1\n",
    "#num_bufs = images.shape[0]  # shape = (frames, pixels, pixels)\n",
    "g2, lag_steps = corr.multi_tau_auto_corr(num_levels, num_bufs, rois, images)\n",
    "\n",
    "## two-time\n",
    "num_bufs_tt = images[f_beg:f_end,:,:].shape[0]\n",
    "num_levels_tt = 1\n",
    "C2, lag_steps_tt, _state = corr.two_time_corr(rois, images[f_beg:f_end,:,:], images[f_beg:f_end,:,:].shape[0], num_bufs_tt, num_levels_tt)  \n",
    "\n",
    "```"
   ]
  },
  {
   "cell_type": "markdown",
   "id": "fe614391-adcb-462f-af69-03d607cc7bc2",
   "metadata": {},
   "source": [
    "### Defining images for XPCS\n",
    "- 3D array that is F-type \n",
    "```python\n",
    "images.shape = (frames, vertical_pixels, horizontal_pixels)\n",
    "```\n",
    "- if you are only computing XPCS for 200x200 area, then the code is more performant if you make input the same size\n",
    "- want to ignore a frame?  make pixel values = np.nan\n",
    "\n",
    "### Defining roi for XPCS\n",
    "- 2D array with integer mapping for pixel grouping\n",
    "    - array must by the same vertical and horzizontal pixels as the images\n",
    "    - 0 is not computed ever (map pixels to ignore all the time as 0)\n",
    "    - if pixels in the input XPCS data are always nan, make the associate roi pixel = 0\n",
    "- Various examples of how to use `roi`:\n",
    "    - https://github.com/scikit-beam/scikit-beam-examples/blob/master/demos/Generate_ROI_labeled_arrays.ipynb\n",
    "    - note: some part of pie-slicing is broken with a fix to be pushed soon\n",
    "\n"
   ]
  },
  {
   "cell_type": "code",
   "execution_count": null,
   "id": "f14723b6-e7e7-482b-902f-6fbc0f979377",
   "metadata": {},
   "outputs": [],
   "source": []
  }
 ],
 "metadata": {
  "kernelspec": {
   "display_name": "Python 3 (ipykernel)",
   "language": "python",
   "name": "python3"
  },
  "language_info": {
   "codemirror_mode": {
    "name": "ipython",
    "version": 3
   },
   "file_extension": ".py",
   "mimetype": "text/x-python",
   "name": "python",
   "nbconvert_exporter": "python",
   "pygments_lexer": "ipython3",
   "version": "3.9.13"
  }
 },
 "nbformat": 4,
 "nbformat_minor": 5
}
